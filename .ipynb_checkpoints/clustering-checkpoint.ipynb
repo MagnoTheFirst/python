{
 "cells": [
  {
   "cell_type": "markdown",
   "metadata": {},
   "source": [
    "## Clustering Exercise ##\n",
    "\n",
    "Clustering is a method belonging to unsupervised machine learning where objects with similar features are grouped together in so-called clusters. \n",
    "\n"
   ]
  },
  {
   "cell_type": "markdown",
   "metadata": {},
   "source": [
    "The most popular clustering method is the k-means algorithms. \n",
    "The first step in this method is to specify  the desired number of clusters k and then to randomly chose  k initial cluster centers from the set of given data points.\n",
    "\n"
   ]
  },
  {
   "cell_type": "markdown",
   "metadata": {},
   "source": [
    "Afterwards, the following steps are carried out successivley until convergence."
   ]
  },
  {
   "cell_type": "markdown",
   "metadata": {},
   "source": [
    "1. The individual vectors are assigned the cluster where their euclidean distance to the associated cluster centroid vector is minimal.\n"
   ]
  },
  {
   "cell_type": "markdown",
   "metadata": {},
   "source": [
    "2. The cluster centers are recalculated based on these updated assignments.\n"
   ]
  },
  {
   "cell_type": "code",
   "execution_count": 10,
   "metadata": {},
   "outputs": [],
   "source": [
    "import matplotlib.pyplot as plt\n",
    "import random\n",
    "import numpy as np\n",
    "import pandas as pd\n",
    "import sys\n",
    "from sklearn.cluster import KMeans\n",
    "from scipy.spatial.distance import cdist \n",
    "from sklearn.preprocessing import StandardScaler\n",
    "from sklearn.decomposition import PCA"
   ]
  },
  {
   "cell_type": "code",
   "execution_count": 11,
   "metadata": {},
   "outputs": [
    {
     "data": {
      "image/png": "[encoded data removed]",
      "text/plain": [
       "<matplotlib.figure.Figure at 0x29e053317f0>"
      ]
     },
     "metadata": {},
     "output_type": "display_data"
    }
   ],
   "source": [
    "## data to cluster\n",
    "data=[[4,0],[0,1],[1,2],[2,1],[3,1],[0,2],[5,9],[10,12],[10,11],[11,11],[7,9]]\n",
    "#data=np.array([[1,5],[3,2]])\n",
    "x, y = np.array(data).T\n",
    "plt.scatter(x,y,color=\"red\")\n",
    "plt.show()"
   ]
  },
  {
   "cell_type": "code",
   "execution_count": 12,
   "metadata": {},
   "outputs": [],
   "source": [
    "def plot_clusters(data_arg,li_cluster_indices,colors,centroids):\n",
    "    data_clusters=[]\n",
    "    for j in range(0,len(li_cluster_indices)):\n",
    "        data_clusters.append([])\n",
    "    data_centroid=[]\n",
    "    \n",
    "    for i in range(0,len(data_arg)):\n",
    "        for j in range(0,len(li_cluster_indices)):\n",
    "            cluster_indices=li_cluster_indices[j]\n",
    "            if i in cluster_indices:\n",
    "                data_clusters[j].append(data_arg[i])\n",
    "    \n",
    "    for cluster, color in zip(data_clusters,colors):\n",
    "        x,y=np.array(cluster).T\n",
    "        plt.scatter(x,y,color=color)\n",
    "    x,y=np.array(centroids).T\n",
    "    plt.scatter(x,y,color=\"blue\")\n",
    "    plt.show()"
   ]
  },
  {
   "cell_type": "code",
   "execution_count": 13,
   "metadata": {},
   "outputs": [],
   "source": [
    "# calculate square of euclidean distance between two points\n",
    "\n",
    "def euclidean_distance2(pt1,pt2):\n",
    "    return np.linalg.norm(pt1-pt2)\n",
    "    \n",
    "\n"
   ]
  },
  {
   "cell_type": "code",
   "execution_count": 14,
   "metadata": {},
   "outputs": [
    {
     "data": {
      "image/png": "[encoded data removed]",
      "text/plain": [
       "<matplotlib.figure.Figure at 0x29e054f8080>"
      ]
     },
     "metadata": {},
     "output_type": "display_data"
    }
   ],
   "source": [
    "## select the initial centroids\n",
    "## reshuffle the list randomly\n",
    "\n",
    "random.shuffle(data)\n",
    "c1=np.array(data[0])\n",
    "c2=np.array(data[1])\n",
    "rest=[]\n",
    "for i in range(2,len(data)):\n",
    "    rest.append(i)\n",
    "plot_clusters(data,[rest],[\"red\"],[c1,c2])\n",
    "    "
   ]
  },
  {
   "cell_type": "code",
   "execution_count": 15,
   "metadata": {},
   "outputs": [
    {
     "name": "stdout",
     "output_type": "stream",
     "text": [
      "adjust clusters\n"
     ]
    },
    {
     "data": {
      "image/png": "[encoded data removed]",
      "text/plain": [
       "<matplotlib.figure.Figure at 0x29e05379710>"
      ]
     },
     "metadata": {},
     "output_type": "display_data"
    },
    {
     "name": "stdout",
     "output_type": "stream",
     "text": [
      "adjust centroids\n"
     ]
    },
    {
     "data": {
      "image/png": "[encoded data removed]",
      "text/plain": [
       "<matplotlib.figure.Figure at 0x29e053dcac8>"
      ]
     },
     "metadata": {},
     "output_type": "display_data"
    },
    {
     "name": "stdout",
     "output_type": "stream",
     "text": [
      "adjust clusters\n"
     ]
    },
    {
     "data": {
      "image/png": "[encoded data removed]",
      "text/plain": [
       "<matplotlib.figure.Figure at 0x29e05526f28>"
      ]
     },
     "metadata": {},
     "output_type": "display_data"
    },
    {
     "name": "stdout",
     "output_type": "stream",
     "text": [
      "adjust centroids\n"
     ]
    },
    {
     "data": {
      "image/png": "[encoded data removed]",
      "text/plain": [
       "<matplotlib.figure.Figure at 0x29e05587ef0>"
      ]
     },
     "metadata": {},
     "output_type": "display_data"
    },
    {
     "name": "stdout",
     "output_type": "stream",
     "text": [
      "convergence!\n"
     ]
    }
   ],
   "source": [
    "cluster1=[]\n",
    "cluster2=[]\n",
    "centroid_index1=0\n",
    "centroid_index2=1\n",
    "oldc1=c1\n",
    "oldc2=c2\n",
    "for k in range(0,10):\n",
    "        l=0\n",
    "        cluster1=[]\n",
    "        cluster2=[]\n",
    "        for point in data:\n",
    "            distance_c1=euclidean_distance2(np.array(point),c1)\n",
    "            distance_c2=euclidean_distance2(np.array(point),c2)\n",
    "            if distance_c1<distance_c2:\n",
    "                cluster1.append(l)\n",
    "            else:\n",
    "                cluster2.append(l)\n",
    "            l=l+1\n",
    "        print (\"adjust clusters\")\n",
    "        plot_clusters(data,[cluster1,cluster2],[\"red\",\"green\"],[c1,c2])\n",
    "        \n",
    "        c1=np.array([0.0])\n",
    "        for i in cluster1:\n",
    "            c1=c1+np.array(data[i])\n",
    "        c1=c1/len(cluster1)\n",
    "        \n",
    "        c2=np.array([0.0])\n",
    "        for i in cluster2:\n",
    "            c2=c2+np.array(data[i])\n",
    "        c2=c2/len(cluster2)\n",
    "        \n",
    "        print (\"adjust centroids\")\n",
    "        plot_clusters(data,[cluster1,cluster2],[\"red\",\"green\"],[c1,c2])\n",
    "        \n",
    "        if np.linalg.norm(c1-oldc1)+np.linalg.norm(c2-oldc2)<0.00001:\n",
    "            print (\"convergence!\")\n",
    "            break\n",
    "        oldc1=c1\n",
    "        oldc2=c2\n",
    "        \n",
    "        #input(\"Press Enter to continue...\")"
   ]
  },
  {
   "cell_type": "markdown",
   "metadata": {},
   "source": [
    "Now let us try the kmeans-clustering using some real world data and the sklearn library. First load the data and do some preprocessing"
   ]
  },
  {
   "cell_type": "code",
   "execution_count": 16,
   "metadata": {},
   "outputs": [],
   "source": [
    "dforig=pd.read_csv('AutoScout24 Dataset.csv')\n",
    "df=pd.get_dummies(dforig)\n",
    "df = df.drop_duplicates()\n",
    "df=df[df.columns.drop(list(df.filter(regex='Name|Registration')))] "
   ]
  },
  {
   "cell_type": "markdown",
   "metadata": {},
   "source": [
    "Now train the k-means classifier"
   ]
  },
  {
   "cell_type": "code",
   "execution_count": 17,
   "metadata": {},
   "outputs": [],
   "source": [
    "kmeans = KMeans(n_clusters=2, random_state=0).fit(df)\n"
   ]
  },
  {
   "cell_type": "markdown",
   "metadata": {},
   "source": [
    "and display the cluster labels"
   ]
  },
  {
   "cell_type": "code",
   "execution_count": 18,
   "metadata": {},
   "outputs": [],
   "source": [
    "np.set_printoptions(threshold=sys.maxsize)\n",
    "labels2=kmeans.labels_"
   ]
  },
  {
   "cell_type": "markdown",
   "metadata": {},
   "source": [
    "next print the cluster centroids"
   ]
  },
  {
   "cell_type": "code",
   "execution_count": 19,
   "metadata": {},
   "outputs": [],
   "source": [
    "centers2=kmeans.cluster_centers_"
   ]
  },
  {
   "cell_type": "markdown",
   "metadata": {},
   "source": [
    "The Elbow method is a very popular technique and the idea is to run k-means clustering for a range of clusters k (let’s say from 1 to 10) and for each value, we are calculating the sum of squared distances from each point to its assigned center(distortions)."
   ]
  },
  {
   "cell_type": "code",
   "execution_count": 20,
   "metadata": {},
   "outputs": [
    {
     "name": "stdout",
     "output_type": "stream",
     "text": [
      "inertias:  [248554776549869.03, 100012399531077.39, 69376720445516.25, 47079867679290.72, 37229100118531.63, 29942205276040.785, 25037882583051.125, 21531061731734.523, 18874116398003.953]\n"
     ]
    }
   ],
   "source": [
    "inertias = [] \n",
    "mapping = {} \n",
    "\n",
    "K = range(1,10) \n",
    "  \n",
    "for k in K: \n",
    "    #Building and fitting the model \n",
    "    kmeanModel = KMeans(n_clusters=k).fit(df) \n",
    "    inertias.append(kmeanModel.inertia_)\n",
    "    \n",
    "\n",
    "print (\"inertias: \",inertias)\n"
   ]
  },
  {
   "cell_type": "code",
   "execution_count": 21,
   "metadata": {},
   "outputs": [
    {
     "data": {
      "image/png": "[encoded data removed]",
      "text/plain": [
       "<matplotlib.figure.Figure at 0x29e0526efd0>"
      ]
     },
     "metadata": {},
     "output_type": "display_data"
    }
   ],
   "source": [
    "plt.plot(K, inertias, 'bx-') \n",
    "plt.xlabel('Values of K') \n",
    "plt.ylabel('Inertia') \n",
    "plt.title('The Elbow Method using Inertia') \n",
    "plt.show() "
   ]
  },
  {
   "cell_type": "code",
   "execution_count": 22,
   "metadata": {},
   "outputs": [],
   "source": [
    "## now transform all data using PCA for visualizing the clusters"
   ]
  },
  {
   "cell_type": "code",
   "execution_count": 23,
   "metadata": {},
   "outputs": [],
   "source": [
    "pca = PCA(n_components=2)"
   ]
  },
  {
   "cell_type": "code",
   "execution_count": 24,
   "metadata": {},
   "outputs": [],
   "source": [
    "std_scaler = StandardScaler().fit(df)\n",
    "df=std_scaler.transform(df)\n",
    "\n",
    "pca_model=pca.fit(df)\n",
    "pcadf=pca_model.transform(df)"
   ]
  },
  {
   "cell_type": "code",
   "execution_count": 25,
   "metadata": {},
   "outputs": [],
   "source": [
    "## determine the cluster index vectors and the  pca transformed cluster centers \n",
    "\n",
    "indices_cluster1=[]\n",
    "indices_cluster2=[]\n",
    "transformed_center1=np.array([0.0,0.0])\n",
    "transformed_center2=np.array([0.0,0.0])\n",
    "for i in range(0,df.shape[0]):\n",
    "    if labels2[i]==0:\n",
    "        indices_cluster1.append(i)\n",
    "        transformed_center1=transformed_center1+np.array([pcadf[i][0],pcadf[i][1]])\n",
    "    else:\n",
    "        indices_cluster2.append(i)\n",
    "        transformed_center2=transformed_center2+np.array([pcadf[i][0],pcadf[i][1]])\n",
    "transformed_center1=transformed_center1/len(indices_cluster1)\n",
    "transformed_center2=transformed_center2/len(indices_cluster2)"
   ]
  },
  {
   "cell_type": "code",
   "execution_count": 26,
   "metadata": {},
   "outputs": [
    {
     "data": {
      "image/png": "[encoded data removed]",
      "text/plain": [
       "<matplotlib.figure.Figure at 0x29e767bec50>"
      ]
     },
     "metadata": {},
     "output_type": "display_data"
    }
   ],
   "source": [
    "\n",
    "df_pairs=[]\n",
    "for i in range(0,len(df)):\n",
    "    df_pairs.append([pcadf[i,0],pcadf[i,1]])\n",
    "\n",
    "\n",
    "plot_clusters(df_pairs,[indices_cluster1,indices_cluster2],[\"red\",\"green\"],[transformed_center1,transformed_center2])"
   ]
  },
  {
   "cell_type": "code",
   "execution_count": null,
   "metadata": {},
   "outputs": [],
   "source": []
  }
 ],
 "metadata": {
  "kernelspec": {
   "display_name": "Python 3",
   "language": "python",
   "name": "python3"
  },
  "language_info": {
   "codemirror_mode": {
    "name": "ipython",
    "version": 3
   },
   "file_extension": ".py",
   "mimetype": "text/x-python",
   "name": "python",
   "nbconvert_exporter": "python",
   "pygments_lexer": "ipython3",
   "version": "3.6.4"
  }
 },
 "nbformat": 4,
 "nbformat_minor": 2
}
